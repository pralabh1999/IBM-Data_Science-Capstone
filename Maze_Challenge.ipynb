{
  "nbformat": 4,
  "nbformat_minor": 0,
  "metadata": {
    "colab": {
      "name": "Maze_Challenge.ipynb",
      "provenance": []
    },
    "kernelspec": {
      "name": "python3",
      "display_name": "Python 3"
    },
    "language_info": {
      "name": "python"
    }
  },
  "cells": [
    {
      "cell_type": "markdown",
      "source": [
        "# **Introduction**\n",
        "\n",
        "This is a maze solving challenge where a string of a form:\n",
        "\n",
        "`xx.exx\n",
        "...xxx\n",
        ".x....\n",
        "xxxx..\n",
        "x.x..s` was provided.<br>\n",
        "Where:\n",
        "- x indicates a wall,\n",
        "- s indicates the start of the maze,\n",
        "- e indicates the end of the maze,<br>\n",
        "\n",
        "We were required to write a program that returned a boolean to indicate whether the maze is solvable. We can only move up, down, left, or right.\n",
        "\n",
        "The programming Language used to write this program is Python. The environment used to for this program is Jupyter Notebook provided by Google via Google Collab.\n"
      ],
      "metadata": {
        "id": "89LiycYrz-5G"
      }
    },
    {
      "cell_type": "markdown",
      "source": [
        "# **Code**"
      ],
      "metadata": {
        "id": "WXlXslmy0I_m"
      }
    },
    {
      "cell_type": "code",
      "source": [
        "#As the input will be in String, we need to transform the string into 2D array\n",
        "#We will be replacing the string values of the maze with integers values as int \n",
        "#values will be easier to process\n",
        "def convertMaze(maze):\n",
        "    # Split on period.\n",
        "    lines_raw = [y for y in (x.strip() for x in maze.splitlines()) if y]\n",
        "    # Remove newlines.\n",
        "    lines_stripped = list(map(lambda line: line.strip(\"\\n\"), lines_raw))\n",
        "    # Result 2D array.\n",
        "    result = []\n",
        "    for line in lines_stripped:\n",
        "        # Create row.\n",
        "        row = []\n",
        "        for char in line:\n",
        "            if char == \"x\":\n",
        "                row.append(-1)\n",
        "            elif char == \"s\":\n",
        "                row.append(1)\n",
        "            elif char == \"e\":\n",
        "                row.append(-3)\n",
        "            else:\n",
        "                row.append(0)\n",
        "        # Add row to result.\n",
        "        result.append(row)\n",
        "    return result"
      ],
      "metadata": {
        "id": "C8wkCA71T5iM"
      },
      "execution_count": 50,
      "outputs": []
    },
    {
      "cell_type": "code",
      "source": [
        "#when we try to move in the new dot, we want to make sure that the dot is there,\n",
        "#which this method will tell us\n",
        "def valid_pos(maze_lists, row, new_row, new_column):\n",
        "    # Determines if coordinates are within range.\n",
        "    if new_row < 0: return False\n",
        "    if new_column < 0: return False\n",
        "    if new_row >= len(maze_lists): return False\n",
        "    if new_column >= len(maze_lists[row]): return False\n",
        "    return True"
      ],
      "metadata": {
        "id": "4hOKnjZdkO-E"
      },
      "execution_count": 51,
      "outputs": []
    },
    {
      "cell_type": "code",
      "source": [
        "#As we need to find paths to the end of the maze, we need to try different paths\n",
        "#time and again.Instead of trying one by one, we will use recursion to automate \n",
        "#the finding process.\n",
        "def make_move(maze_lists_temp, row, column, move_count, lowest):\n",
        "    moves = [[-1, 0],\n",
        "             [0, -1], [0, 1],\n",
        "             [1, 0]]\n",
        "\n",
        "    # Create new list and copy each exist in grow into it.\n",
        "    maze_lists = []\n",
        "    for row_temp in maze_lists_temp:\n",
        "        maze_lists.append(row_temp[:])       \n",
        "\n",
        "    value = maze_lists[row][column]\n",
        "    if value >= 1:\n",
        "\n",
        "        for move in moves:\n",
        "            new_row = row + move[0]\n",
        "            new_column = column + move[1]\n",
        "\n",
        "            if valid_pos(maze_lists, row, new_row, new_column):\n",
        "                test_value = maze_lists[new_row][new_column]\n",
        "\n",
        "                if test_value == 0:\n",
        "                    maze_lists[new_row][new_column] = value + 1\n",
        "                    # Make new move.\n",
        "                    make_move(maze_lists, new_row, new_column, move_count + 1, lowest)\n",
        "                elif test_value == -3:\n",
        "                    # See if lowest move.\n",
        "                    if move_count + 1 < lowest[0]:\n",
        "                        lowest[0] = move_count + 1\n",
        "    return -1"
      ],
      "metadata": {
        "id": "BKU3FfR2kZ_1"
      },
      "execution_count": 52,
      "outputs": []
    },
    {
      "cell_type": "code",
      "source": [
        "#This is the method, which displays whether a maze is solvable or not based on\n",
        "#moves make_moves has made. In this method we have allocated the maximum number\n",
        "#of recursion make_move method can make, if the method is able to solve the maze\n",
        "#within the limit, then the maze is solveable, otherwise it is not.\n",
        "def solvable(maze):\n",
        "  data = convertMaze(maze)\n",
        "  for i in range(len(data)):\n",
        "      row = data[i]\n",
        "      for x in range(len(row)):\n",
        "        # See if start square.\n",
        "        if row[x] == 1:\n",
        "            lowest = [1000]\n",
        "            moves=make_move(data, i, x, 0, lowest)\n",
        "            if lowest[0]>999:\n",
        "              return False\n",
        "            else: return True"
      ],
      "metadata": {
        "id": "rGZIGHx4kwhH"
      },
      "execution_count": 58,
      "outputs": []
    },
    {
      "cell_type": "markdown",
      "source": [
        "# **Unit Testing**"
      ],
      "metadata": {
        "id": "BqaL9XddzzwP"
      }
    },
    {
      "cell_type": "code",
      "source": [
        "maze1 = \"\"\"\n",
        "xx.exx\n",
        "...xxx\n",
        ".x....\n",
        "xxxx..\n",
        "x.x..s\n",
        "\"\"\"\n",
        "\n",
        "maze2= \"\"\"\n",
        "xs.x.e\n",
        "...x..\n",
        "\"\"\""
      ],
      "metadata": {
        "id": "hXu2dTpGi5sc"
      },
      "execution_count": 54,
      "outputs": []
    },
    {
      "cell_type": "code",
      "source": [
        "solvable(maze1)"
      ],
      "metadata": {
        "colab": {
          "base_uri": "https://localhost:8080/"
        },
        "id": "c3y_mlty2RS9",
        "outputId": "288cbaa6-bc6a-45fb-87af-8ce1a0c7f618"
      },
      "execution_count": 56,
      "outputs": [
        {
          "output_type": "execute_result",
          "data": {
            "text/plain": [
              "True"
            ]
          },
          "metadata": {},
          "execution_count": 56
        }
      ]
    },
    {
      "cell_type": "code",
      "source": [
        "solvable(maze2)"
      ],
      "metadata": {
        "colab": {
          "base_uri": "https://localhost:8080/"
        },
        "id": "jeYUTmIS2ZFs",
        "outputId": "ac928718-c5e5-45d0-884c-42f95dd6a214"
      },
      "execution_count": 57,
      "outputs": [
        {
          "output_type": "execute_result",
          "data": {
            "text/plain": [
              "False"
            ]
          },
          "metadata": {},
          "execution_count": 57
        }
      ]
    },
    {
      "cell_type": "markdown",
      "source": [
        "#Reference\n",
        "1. Maze-solving algorithm. (2022). In Wikipedia. https://en.wikipedia.org/w/index.php?title=Maze-solving_algorithm&oldid=1083691143\n",
        "2. Bakibayev, T. (2021, April 3). How to Solve a Maze using BFS in Python. Medium. https://levelup.gitconnected.com/solve-a-maze-with-python-e9f0580979a1"
      ],
      "metadata": {
        "id": "kPyZ2N_7Asju"
      }
    }
  ]
}